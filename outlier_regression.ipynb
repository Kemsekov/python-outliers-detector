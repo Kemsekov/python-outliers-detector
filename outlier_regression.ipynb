{
 "cells": [
  {
   "cell_type": "code",
   "execution_count": 1,
   "metadata": {},
   "outputs": [],
   "source": [
    "import pandas as pd\n",
    "import numpy as np\n",
    "import sklearn.metrics as metrics\n",
    "from random import randint\n",
    "from matplotlib import pyplot as plt"
   ]
  },
  {
   "cell_type": "code",
   "execution_count": 2,
   "metadata": {},
   "outputs": [],
   "source": [
    "from common import get_full_data\n",
    "# load data\n",
    "def steel_strength():\n",
    "    df = pd.read_csv(\"dataset/steel_strength.csv\")\n",
    "    # get dependent and independent features\n",
    "    X=df.iloc[:,1:-3]\n",
    "    y=df.iloc[:,-2]\n",
    "    return get_full_data(X,y)"
   ]
  },
  {
   "cell_type": "code",
   "execution_count": 3,
   "metadata": {},
   "outputs": [],
   "source": [
    "from xgboost import XGBRegressor\n",
    "X,y = steel_strength()\n",
    "\n",
    "# for high-dimensional data use `gpu` for device if you have one\n",
    "special_model = XGBRegressor(device='cpu')"
   ]
  },
  {
   "cell_type": "code",
   "execution_count": 4,
   "metadata": {},
   "outputs": [],
   "source": [
    "from sklearn.model_selection import RandomizedSearchCV\n",
    "from common import XGB_search_params\n",
    "\n",
    "params = XGB_search_params()\n",
    "state = randint(0,1000)\n",
    "search = RandomizedSearchCV(\n",
    "    special_model,\n",
    "    params,\n",
    "    n_iter=500,\n",
    "    cv=5,\n",
    "    random_state=state,\n",
    "    n_jobs=-1,\n",
    ")\n",
    "search.fit(X,y)\n",
    "special_model=search.best_estimator_"
   ]
  },
  {
   "cell_type": "code",
   "execution_count": 5,
   "metadata": {},
   "outputs": [
    {
     "name": "stdout",
     "output_type": "stream",
     "text": [
      "r2 scoring\n",
      "-----------tensile strength-----------\n",
      "Mean  0.8365877854992385\n",
      "Std  0.06572885995838901\n"
     ]
    }
   ],
   "source": [
    "# do repeated stratified k-fold cross-validation with classification report\n",
    "from sklearn.model_selection import RepeatedKFold, RepeatedStratifiedKFold, cross_val_score\n",
    "from common import cross_val_classification_report, cross_val_score_mean_std\n",
    "\n",
    "special_model.device='cpu'\n",
    "\n",
    "cv = RepeatedKFold(n_splits=10, n_repeats=5, random_state=50)\n",
    "r2_scoring = metrics.make_scorer(metrics.r2_score)\n",
    "print(\"r2 scoring\")\n",
    "cross_val_score_mean_std(cross_val_score(special_model,X,y,cv=cv,scoring=r2_scoring),y.name)"
   ]
  },
  {
   "cell_type": "code",
   "execution_count": 6,
   "metadata": {},
   "outputs": [
    {
     "name": "stdout",
     "output_type": "stream",
     "text": [
      "r2 score\n",
      "-----------tensile strength-----------\n",
      "Mean  0.8853371995060441\n",
      "Std  0.055296365202510404\n"
     ]
    }
   ],
   "source": [
    "# New method\n",
    "from common import find_outliers, negate\n",
    "\n",
    "outliers, score = find_outliers(\n",
    "    X.to_numpy(),\n",
    "    y,\n",
    "    special_model,\n",
    "    outlier_remove_partition=0.05,\n",
    "    evaluate_loss=metrics.mean_squared_error,\n",
    "    pred_loss=metrics.mean_squared_error,\n",
    "    plot=False\n",
    ")\n",
    "X_clean = [x for i,x in enumerate(X.to_numpy()) if i not in outliers]\n",
    "y_clean = [y_ for i,y_ in enumerate(y) if i not in outliers]\n",
    "\n",
    "r2_scoring = metrics.make_scorer(metrics.r2_score)\n",
    "print(\"r2 score\")\n",
    "cross_val_score_mean_std(cross_val_score(special_model,X_clean,y_clean,cv=cv,scoring=r2_scoring),y.name)\n"
   ]
  },
  {
   "cell_type": "code",
   "execution_count": 7,
   "metadata": {},
   "outputs": [
    {
     "name": "stdout",
     "output_type": "stream",
     "text": [
      "r2 score\n",
      "-----------tensile strength-----------\n",
      "Mean  0.8262127045515743\n",
      "Std  0.09445724604889805\n"
     ]
    }
   ],
   "source": [
    "# z-score method\n",
    "from scipy import stats\n",
    "data = pd.concat([X,y],axis=1)\n",
    "z = np.abs(stats.zscore(data))\n",
    "threshold = 3\n",
    "data_clean = data[(z < threshold).all(axis=1)]\n",
    "\n",
    "X_clean=data_clean.iloc[:,:-2]\n",
    "y_clean=data_clean.iloc[:,-1]\n",
    "\n",
    "r2_scoring = metrics.make_scorer(metrics.r2_score)\n",
    "print(\"r2 score\")\n",
    "cross_val_score_mean_std(cross_val_score(special_model,X_clean,y_clean,cv=cv,scoring=r2_scoring),y.name)"
   ]
  },
  {
   "cell_type": "code",
   "execution_count": 8,
   "metadata": {},
   "outputs": [
    {
     "name": "stdout",
     "output_type": "stream",
     "text": [
      "-----------tensile strength-----------\n",
      "Mean  0.8436396395374473\n",
      "Std  0.09318957218688252\n"
     ]
    }
   ],
   "source": [
    "\n",
    "import pandas as pd\n",
    "\n",
    "# Assuming 'data' is a Pandas DataFrame\n",
    "Q1 = data.quantile(0.15)\n",
    "Q3 = data.quantile(0.85)\n",
    "IQR = Q3 - Q1\n",
    "data_clean = data[~((data < (Q1 - 1.5 * IQR)) | (data > (Q3 + 1.5 * IQR))).any(axis=1)]\n",
    "\n",
    "X_clean=data_clean.iloc[:,:-2]\n",
    "y_clean=data_clean.iloc[:,-1]\n",
    "\n",
    "r2_scoring = metrics.make_scorer(metrics.r2_score)\n",
    "cross_val_score_mean_std(cross_val_score(special_model,X_clean,y_clean,cv=cv,scoring=r2_scoring),y.name)"
   ]
  },
  {
   "cell_type": "code",
   "execution_count": 9,
   "metadata": {},
   "outputs": [
    {
     "name": "stdout",
     "output_type": "stream",
     "text": [
      "-----------tensile strength-----------\n",
      "Mean  0.8181715818935182\n",
      "Std  0.08521800031668554\n"
     ]
    }
   ],
   "source": [
    "from sklearn.ensemble import IsolationForest\n",
    "\n",
    "\n",
    "clf = IsolationForest(random_state=50)\n",
    "outliers_pred=clf.fit_predict(data)\n",
    "\n",
    "data_clean = data[outliers_pred==1]\n",
    "\n",
    "X_clean=data_clean.iloc[:,:-2]\n",
    "y_clean=data_clean.iloc[:,-1]\n",
    "\n",
    "r2_scoring = metrics.make_scorer(metrics.r2_score)\n",
    "cross_val_score_mean_std(cross_val_score(special_model,X_clean,y_clean,cv=cv,scoring=r2_scoring),y.name)"
   ]
  }
 ],
 "metadata": {
  "kernelspec": {
   "display_name": "venv",
   "language": "python",
   "name": "python3"
  },
  "language_info": {
   "codemirror_mode": {
    "name": "ipython",
    "version": 3
   },
   "file_extension": ".py",
   "mimetype": "text/x-python",
   "name": "python",
   "nbconvert_exporter": "python",
   "pygments_lexer": "ipython3",
   "version": "3.11.6"
  }
 },
 "nbformat": 4,
 "nbformat_minor": 2
}
