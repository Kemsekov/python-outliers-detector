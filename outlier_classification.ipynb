{
 "cells": [
  {
   "cell_type": "code",
   "execution_count": null,
   "metadata": {},
   "outputs": [],
   "source": [
    "import pandas as pd\n",
    "import numpy as np\n",
    "import sklearn.metrics as metrics\n",
    "from random import randint"
   ]
  },
  {
   "cell_type": "code",
   "execution_count": null,
   "metadata": {},
   "outputs": [],
   "source": [
    "from sklearn.calibration import LabelEncoder\n",
    "from common import get_full_data\n",
    "def heart_failure():\n",
    "    df = pd.read_csv(\"dataset/heart_failure_clinical_records_dataset.csv\")\n",
    "    # get dependent and independent features\n",
    "    X=df.iloc[:,:-1]\n",
    "    y=df.iloc[:,-1]\n",
    "    classes = y.unique()\n",
    "    X,y=get_full_data(X,y)\n",
    "    return X,y,[str(c) for c in classes]\n",
    "\n",
    "def encode_categorical_columns(df):\n",
    "    le = LabelEncoder()\n",
    "    # Loop over all columns in the DataFrame\n",
    "    for col in df.columns:\n",
    "        # Check if the column is of type object (string)\n",
    "        if df[col].dtype == 'object':\n",
    "            # Use LabelEncoder to do the numeric transformation\n",
    "            df[col] = le.fit_transform(df[col])\n",
    "    return df\n",
    "\n",
    "def disease():\n",
    "    df = pd.read_csv(\"dataset/disease.csv\")\n",
    "    # get dependent and independent features\n",
    "    classes = df.iloc[:,0].unique()\n",
    "    df = encode_categorical_columns(df)\n",
    "\n",
    "    X = df.iloc[:,1:]\n",
    "    y = df.iloc[:,0]\n",
    "    return X,y, classes\n",
    "\n",
    "def seeds():\n",
    "    df = pd.read_csv(\"dataset/seeds.csv\")\n",
    "    y = df.iloc[:,-1]-1\n",
    "    classes = y.apply(lambda x: str(x)).unique()\n",
    "    X = df.iloc[:,:-1]\n",
    "    return X,y, classes\n"
   ]
  },
  {
   "cell_type": "code",
   "execution_count": null,
   "metadata": {},
   "outputs": [],
   "source": [
    "from xgboost import XGBRegressor,  XGBClassifier\n",
    "X,y, y_classes = heart_failure()\n",
    "\n",
    "# for high-dimensional data use `gpu` for device if you have one\n",
    "special_model = XGBClassifier(device='cpu')"
   ]
  },
  {
   "cell_type": "code",
   "execution_count": null,
   "metadata": {},
   "outputs": [],
   "source": [
    "from sklearn.model_selection import RandomizedSearchCV, train_test_split\n",
    "from common import XGB_search_params\n",
    "\n",
    "params = XGB_search_params()\n",
    "state = randint(0,1000)\n",
    "search = RandomizedSearchCV(\n",
    "    special_model,\n",
    "    params,\n",
    "    n_iter=200,\n",
    "    cv=5,\n",
    "    random_state=state,\n",
    "    n_jobs=-1,\n",
    ")\n",
    "\n",
    "search.fit(X,y)\n",
    "special_model=search.best_estimator_"
   ]
  },
  {
   "cell_type": "code",
   "execution_count": null,
   "metadata": {},
   "outputs": [],
   "source": [
    "# do repeated stratified k-fold cross-validation with classification report\n",
    "from sklearn.model_selection import RepeatedStratifiedKFold\n",
    "from common import cross_val_classification_report\n",
    "\n",
    "cv = RepeatedStratifiedKFold(n_splits=5, n_repeats=3, random_state=50)\n",
    "report = cross_val_classification_report(\n",
    "    model=special_model,\n",
    "    X=X.to_numpy(),\n",
    "    y=y,\n",
    "    cv=cv,\n",
    "    target_names=y_classes\n",
    ")\n",
    "print(report)"
   ]
  },
  {
   "cell_type": "code",
   "execution_count": null,
   "metadata": {},
   "outputs": [],
   "source": [
    "# New method\n",
    "from common import find_outliers\n",
    "\n",
    "X_numpy = X.to_numpy()\n",
    "y_numpy = y.to_numpy()\n",
    "\n",
    "outliers_mask, score = find_outliers(\n",
    "    X_numpy,\n",
    "    y_numpy,\n",
    "    special_model,\n",
    "    outliers_to_remove=0.1,\n",
    "    iterations=5,\n",
    "    gamma=0.5,\n",
    "    evaluate_loss=metrics.mean_squared_error,\n",
    "    repeats=5,\n",
    "    cv=10,\n",
    "    plot=True\n",
    ")\n",
    "\n",
    "X_clean = X_numpy[~outliers_mask]\n",
    "y_clean = y_numpy[~outliers_mask]\n",
    "\n",
    "cv = RepeatedStratifiedKFold(n_splits=10, n_repeats=3, random_state=50)\n",
    "report = cross_val_classification_report(\n",
    "    model=special_model,\n",
    "    X=X_clean,\n",
    "    y=y_clean,\n",
    "    cv=cv,\n",
    "    target_names=y_classes\n",
    ")\n",
    "print(report)\n"
   ]
  },
  {
   "cell_type": "code",
   "execution_count": null,
   "metadata": {},
   "outputs": [],
   "source": [
    "from common import generate_colors_for_classification\n",
    "from sklearn.preprocessing import StandardScaler, RobustScaler\n",
    "from kernel_pca_search import KernelPCASearchCV\n",
    "from render import *\n",
    "\n",
    "kpca_cv = KernelPCASearchCV(n_components=3,scaler=RobustScaler(),cv=5,n_iter=-1)\n",
    "x_transform = kpca_cv.fit_transform(X)\n",
    "\n",
    "colors = generate_colors_for_classification(y,seed=100)\n",
    "data = np.concatenate([x_transform,colors],axis=1)\n",
    "plot_3d_rgb(data,\"Original data plot\",[\"d1\",\"d2\",\"d3\"])\n",
    "\n",
    "x_clean_transform = kpca_cv.transform(X_clean)\n",
    "y_clean_colors = generate_colors_for_classification(y_clean,seed=100)\n",
    "data_clean = np.concatenate([x_clean_transform,y_clean_colors],axis=1)\n",
    "plot_3d_rgb(data_clean,\"Cleaned data plot\",[\"d1\",\"d2\",\"d3\"])\n",
    "\n",
    "print(kpca_cv.score)\n",
    "print(kpca_cv.kpca)"
   ]
  },
  {
   "cell_type": "markdown",
   "metadata": {},
   "source": [
    "Compare performance with some control model `SVC` with `rbf` kernel and standard scaler\n",
    "\n",
    "Find optimal hyperparameters using `RandomSearchCV`"
   ]
  }
 ],
 "metadata": {
  "kernelspec": {
   "display_name": "venv",
   "language": "python",
   "name": "python3"
  },
  "language_info": {
   "codemirror_mode": {
    "name": "ipython",
    "version": 3
   },
   "file_extension": ".py",
   "mimetype": "text/x-python",
   "name": "python",
   "nbconvert_exporter": "python",
   "pygments_lexer": "ipython3",
   "version": "3.11.6"
  }
 },
 "nbformat": 4,
 "nbformat_minor": 2
}
